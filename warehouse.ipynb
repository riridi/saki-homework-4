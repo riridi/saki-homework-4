{
 "cells": [
  {
   "cell_type": "markdown",
   "id": "d00612ca",
   "metadata": {
    "nteract": {
     "transient": {
      "deleting": false
     }
    }
   },
   "source": [
    "# Exercise: Smart Factory Warehouse with a Markov Model\n",
    "\n",
    "<b>Goal:</b> Optimization of the robots route for pick-up and storage of\n",
    "items in a warehouse  \n",
    "* Size of warehouse: 2x2 containers\n",
    "* Three types of items: white, blue, red\n",
    "* Two tasks: store, restore\n",
    "* Probabilities of these items being stored or restored: 0.25, 0.25, 0.5\n",
    "* Use the markov decision process toolbox for your solution => Choose the best performing MDP"
   ]
  },
  {
   "cell_type": "code",
   "execution_count": 1,
   "id": "ed9b2d23",
   "metadata": {},
   "outputs": [],
   "source": [
    "from mdptoolbox import mdp\n",
    "import numpy as np"
   ]
  },
  {
   "cell_type": "code",
   "execution_count": 2,
   "id": "0ba51c4c",
   "metadata": {},
   "outputs": [],
   "source": [
    "# Definitions:\n",
    "size_warehouse = (2, 2)  # size of warehouse\n",
    "coord_warehouse = [(0, 0), (0, 1), (1, 0), (1, 1)]  # coordinates of all warehouse containers\n",
    "single_reward = [30, 20, 20, 10]  # plain reward for each warehouse container, ordered by coordinates, high reward = short way\n",
    "items = ['white', 'blue', 'red']  # all items\n",
    "containers = ['empty'] + items  # possible states of one container\n",
    "probabilities = [0.25, 0.25, 0.5]  # probabilities of each item that it is being stored or restored\n",
    "tasks = ['store', 'restore']  # possible tasks the roboter can perform\n",
    "start_pos = (0, 0)  # starting position of the roboter"
   ]
  },
  {
   "cell_type": "code",
   "execution_count": 3,
   "id": "d748d77d",
   "metadata": {},
   "outputs": [
    {
     "name": "stdout",
     "output_type": "stream",
     "text": [
      "Number of states: 256\n",
      "Example state: ['empty', 'empty', 'empty', 'empty']\n"
     ]
    }
   ],
   "source": [
    "# Create a list of all possible warehouse states\n",
    "# A state is defined by the items that occupy the containers in the warehouse\n",
    "# For example: ['white', 'empty', 'blue', 'empty'] which means that the container at (0, 0) is filled with a white item, the container at (0, 1) is empty, ...\n",
    "states = []\n",
    "\n",
    "# go through the containers\n",
    "for c in coord_warehouse:\n",
    "    pre = []\n",
    "    \n",
    "    # for the first container: all possible item occupations of this container\n",
    "    if states == []:\n",
    "        for i in containers:\n",
    "            pre += [[i]]\n",
    "    \n",
    "    # for the other containers: expand the list by adding each possible occupation of this container\n",
    "    else:\n",
    "        for s in states:\n",
    "            for i in containers:\n",
    "                pre += [s + [i]]\n",
    "            \n",
    "    states = pre\n",
    "            \n",
    "print(\"Number of states: \" + str(len(states)))\n",
    "print(\"Example state: \" + str(states[0]))"
   ]
  },
  {
   "cell_type": "code",
   "execution_count": 4,
   "id": "52a2b259",
   "metadata": {},
   "outputs": [
    {
     "name": "stdout",
     "output_type": "stream",
     "text": [
      "Number of actions: 6\n",
      "All actions: [('store', 'white'), ('store', 'blue'), ('store', 'red'), ('restore', 'white'), ('restore', 'blue'), ('restore', 'red')]\n"
     ]
    }
   ],
   "source": [
    "# Create a list of all possible agent actions that can be performed on the warehouse\n",
    "# An action is defined by the task the agent performes and which item it does the task with\n",
    "# For example: ('store', 'blue') which means that the agent should store a blue item in the warehouse\n",
    "actions = []\n",
    "\n",
    "# go through the tasks and items\n",
    "for t in tasks:\n",
    "    for i in items:\n",
    "        actions += [(t, i)]\n",
    "\n",
    "print(\"Number of actions: \" + str(len(actions)))\n",
    "print(\"All actions: \" + str(actions))"
   ]
  },
  {
   "cell_type": "code",
   "execution_count": 5,
   "id": "ad8044d9",
   "metadata": {},
   "outputs": [],
   "source": [
    "# Define the empty transition and reward matrices\n",
    "transition = np.zeros((len(actions), len(states), len(states)))\n",
    "reward = np.zeros((len(actions), len(states), len(states)))"
   ]
  },
  {
   "cell_type": "code",
   "execution_count": 6,
   "id": "e54f982c",
   "metadata": {},
   "outputs": [],
   "source": [
    "# Custom function to that searches a list for a value and returns all positions of the list where the value was found\n",
    "f = lambda list, value: [i for i in range(len(list)) if list[i] == value]"
   ]
  },
  {
   "cell_type": "code",
   "execution_count": 7,
   "id": "47be8f7c",
   "metadata": {},
   "outputs": [],
   "source": [
    "# Fill the transition and reward matrices with values\n",
    "\n",
    "# go through the actions\n",
    "for a in range(len(actions)):\n",
    "    # get the task and the item of this action\n",
    "    task, item = actions[a]\n",
    "    \n",
    "    # go through the states\n",
    "    for r in range(len(states)):\n",
    "        # get the current state\n",
    "        row_state = states[r]\n",
    "        \n",
    "        # catch some special cases:\n",
    "        if (task == 'store') and ('empty' not in row_state):\n",
    "            # if an item should be stored but the warehouse is full: do no change the state (reject the request)\n",
    "            transition[a, r, r] = 1\n",
    "            continue\n",
    "            \n",
    "        if (task == 'restore') and ((['empty', 'empty', 'empty', 'empty'] == row_state) or (item not in row_state)):\n",
    "            # if an item should be restored but the warehouse is empty or the requested item is not in the warehouse:\n",
    "            # do not change the state (reject the request)\n",
    "            transition[a, r, r] = 1\n",
    "            continue\n",
    "        \n",
    "        # normal case: the state of the warehouse can be changed\n",
    "        idx = None\n",
    "        \n",
    "        if task == 'store':\n",
    "            # if an item should be stored: search for all possible empty containers in the warehouse\n",
    "            idx = f(row_state, 'empty')\n",
    "            # calculate the probability that one of the containers will be chosen (equally distributed)\n",
    "            prob = 1 / len(idx)\n",
    "            \n",
    "            # go through all empty containers\n",
    "            for el in idx:\n",
    "                # this container is chosen, so store the item in this container which creates a new state\n",
    "                new_state = row_state.copy()\n",
    "                new_state[el] = item\n",
    "                # search this new state in the list of all possible states\n",
    "                new_s_idx = states.index(new_state)\n",
    "                # write the probability of transiting from the old state into this new state into the transition matrix \n",
    "                transition[a, r, new_s_idx] = prob\n",
    "                \n",
    "                # write the plain reward multiplied by the probability of this item appearing into the reward matrix\n",
    "                reward[a, r, new_s_idx] = single_reward[el] * probabilities[items.index(item)]\n",
    "            \n",
    "        else:\n",
    "            # if an item should be restored: search for all possible containers that contain this item\n",
    "            idx = f(row_state, item)\n",
    "            # calculate the probability that one of the containers will be chosen (equally distributed)\n",
    "            prob = 1 / len(idx)\n",
    "            \n",
    "            # go through the containers with this item\n",
    "            for el in idx:\n",
    "                # this container is chosen, so restore the item from this container which leaves it empty which creates a new state\n",
    "                new_state = row_state.copy()\n",
    "                new_state[el] = 'empty'\n",
    "                # search this new state in the list of all possible states\n",
    "                new_s_idx = states.index(new_state)\n",
    "                # write the probability of transiting from the old state into this new state into the transition matrix \n",
    "                transition[a, r, new_s_idx] = prob\n",
    "                \n",
    "                # write the plain reward multiplied by the probability of this item appearing into the reward matrix\n",
    "                reward[a, r, new_s_idx] = single_reward[el] * probabilities[items.index(item)]\n"
   ]
  },
  {
   "cell_type": "code",
   "execution_count": 8,
   "id": "ed9652e8",
   "metadata": {},
   "outputs": [
    {
     "name": "stdout",
     "output_type": "stream",
     "text": [
      "['empty', 'empty', 'empty', 'empty'] + ('store', 'white') ->\n",
      "\n",
      "Transition matrix\n",
      "[0.   0.25 0.   0.   0.25 0.   0.   0.   0.   0.   0.   0.   0.   0.\n",
      " 0.   0.   0.25 0.   0.   0.   0.   0.   0.   0.   0.   0.   0.   0.\n",
      " 0.   0.   0.   0.   0.   0.   0.   0.   0.   0.   0.   0.   0.   0.\n",
      " 0.   0.   0.   0.   0.   0.   0.   0.   0.   0.   0.   0.   0.   0.\n",
      " 0.   0.   0.   0.   0.   0.   0.   0.   0.25 0.   0.   0.   0.   0.\n",
      " 0.   0.   0.   0.   0.   0.   0.   0.   0.   0.   0.   0.   0.   0.\n",
      " 0.   0.   0.   0.   0.   0.   0.   0.   0.   0.   0.   0.   0.   0.\n",
      " 0.   0.   0.   0.   0.   0.   0.   0.   0.   0.   0.   0.   0.   0.\n",
      " 0.   0.   0.   0.   0.   0.   0.   0.   0.   0.   0.   0.   0.   0.\n",
      " 0.   0.   0.   0.   0.   0.   0.   0.   0.   0.   0.   0.   0.   0.\n",
      " 0.   0.   0.   0.   0.   0.   0.   0.   0.   0.   0.   0.   0.   0.\n",
      " 0.   0.   0.   0.   0.   0.   0.   0.   0.   0.   0.   0.   0.   0.\n",
      " 0.   0.   0.   0.   0.   0.   0.   0.   0.   0.   0.   0.   0.   0.\n",
      " 0.   0.   0.   0.   0.   0.   0.   0.   0.   0.   0.   0.   0.   0.\n",
      " 0.   0.   0.   0.   0.   0.   0.   0.   0.   0.   0.   0.   0.   0.\n",
      " 0.   0.   0.   0.   0.   0.   0.   0.   0.   0.   0.   0.   0.   0.\n",
      " 0.   0.   0.   0.   0.   0.   0.   0.   0.   0.   0.   0.   0.   0.\n",
      " 0.   0.   0.   0.   0.   0.   0.   0.   0.   0.   0.   0.   0.   0.\n",
      " 0.   0.   0.   0.  ]\n",
      "\n",
      "Indicies of all state transitions: [1, 4, 16, 64]\n",
      "Resulting next states:\n",
      "['empty', 'empty', 'empty', 'white']\n",
      "['empty', 'empty', 'white', 'empty']\n",
      "['empty', 'white', 'empty', 'empty']\n",
      "['white', 'empty', 'empty', 'empty']\n"
     ]
    }
   ],
   "source": [
    "# Show matrices for the empty state ['empty', 'empty', 'empty', 'empty'] and the action (store, white):\n",
    "print(str(states[0]) + \" + \" + str(actions[0]) + \" ->\\n\")\n",
    "print(\"Transition matrix\")\n",
    "print(transition[0, 0])\n",
    "white_idx = f(transition[0, 0], 0.25)\n",
    "print(\"\\nIndicies of all state transitions: \" + str(white_idx))\n",
    "print(\"Resulting next states:\")\n",
    "for wi in white_idx:\n",
    "    print(states[wi])"
   ]
  },
  {
   "cell_type": "code",
   "execution_count": 9,
   "id": "346a523d",
   "metadata": {},
   "outputs": [
    {
     "name": "stdout",
     "output_type": "stream",
     "text": [
      "Reward matix: \n",
      "[0.  2.5 0.  0.  5.  0.  0.  0.  0.  0.  0.  0.  0.  0.  0.  0.  5.  0.\n",
      " 0.  0.  0.  0.  0.  0.  0.  0.  0.  0.  0.  0.  0.  0.  0.  0.  0.  0.\n",
      " 0.  0.  0.  0.  0.  0.  0.  0.  0.  0.  0.  0.  0.  0.  0.  0.  0.  0.\n",
      " 0.  0.  0.  0.  0.  0.  0.  0.  0.  0.  7.5 0.  0.  0.  0.  0.  0.  0.\n",
      " 0.  0.  0.  0.  0.  0.  0.  0.  0.  0.  0.  0.  0.  0.  0.  0.  0.  0.\n",
      " 0.  0.  0.  0.  0.  0.  0.  0.  0.  0.  0.  0.  0.  0.  0.  0.  0.  0.\n",
      " 0.  0.  0.  0.  0.  0.  0.  0.  0.  0.  0.  0.  0.  0.  0.  0.  0.  0.\n",
      " 0.  0.  0.  0.  0.  0.  0.  0.  0.  0.  0.  0.  0.  0.  0.  0.  0.  0.\n",
      " 0.  0.  0.  0.  0.  0.  0.  0.  0.  0.  0.  0.  0.  0.  0.  0.  0.  0.\n",
      " 0.  0.  0.  0.  0.  0.  0.  0.  0.  0.  0.  0.  0.  0.  0.  0.  0.  0.\n",
      " 0.  0.  0.  0.  0.  0.  0.  0.  0.  0.  0.  0.  0.  0.  0.  0.  0.  0.\n",
      " 0.  0.  0.  0.  0.  0.  0.  0.  0.  0.  0.  0.  0.  0.  0.  0.  0.  0.\n",
      " 0.  0.  0.  0.  0.  0.  0.  0.  0.  0.  0.  0.  0.  0.  0.  0.  0.  0.\n",
      " 0.  0.  0.  0.  0.  0.  0.  0.  0.  0.  0.  0.  0.  0.  0.  0.  0.  0.\n",
      " 0.  0.  0.  0. ]\n",
      "\n",
      "Resulting rewards orderd by next state:\n",
      "2.5\n",
      "5.0\n",
      "5.0\n",
      "7.5\n"
     ]
    }
   ],
   "source": [
    "print(\"Reward matix: \")\n",
    "print(reward[0, 0])\n",
    "print(\"\\nResulting rewards orderd by next state:\")\n",
    "for wi in white_idx:\n",
    "    print(reward[0, 0, wi])"
   ]
  },
  {
   "cell_type": "markdown",
   "id": "5c39c037",
   "metadata": {
    "nteract": {
     "transient": {
      "deleting": false
     }
    }
   },
   "source": [
    "# Markov Decision Process Toolbox\n",
    "I chose the three most popular algorithms for reinforcement learning:\n",
    "* Policy iteration\n",
    "* Q-learning\n",
    "* Value iteration  \n",
    "\n",
    "The algorithms will be evaluated with a example"
   ]
  },
  {
   "cell_type": "code",
   "execution_count": 10,
   "id": "3d4ebd3f",
   "metadata": {},
   "outputs": [],
   "source": [
    "# PolicyIteration\n",
    "policyIt = mdp.PolicyIteration(transition, reward, 0.9)\n",
    "policyIt.run()"
   ]
  },
  {
   "cell_type": "code",
   "execution_count": 11,
   "id": "e383962d",
   "metadata": {},
   "outputs": [],
   "source": [
    "# Q-Learning\n",
    "qlearning = mdp.QLearning(transition, reward, 0.9)\n",
    "qlearning.run()"
   ]
  },
  {
   "cell_type": "code",
   "execution_count": 12,
   "id": "9190cd8d",
   "metadata": {},
   "outputs": [],
   "source": [
    "# Value Iteration\n",
    "valIt = mdp.ValueIteration(transition, reward, 0.9)\n",
    "valIt.run()"
   ]
  },
  {
   "cell_type": "code",
   "execution_count": 13,
   "id": "6194129d",
   "metadata": {},
   "outputs": [
    {
     "name": "stdout",
     "output_type": "stream",
     "text": [
      "Number of test actions: 65\n"
     ]
    }
   ],
   "source": [
    "# read in test file\n",
    "fileactions = []\n",
    "with open('warehousetest.txt', 'r') as file:\n",
    "    for line in file:\n",
    "        split = line.split(\"\\t\")\n",
    "        faction = (split[0], split[1][:-1])\n",
    "        fileactions += [actions.index(faction)]\n",
    "        \n",
    "print(\"Number of test actions: \" + str(len(fileactions)))"
   ]
  },
  {
   "cell_type": "code",
   "execution_count": 14,
   "id": "2d169ee9",
   "metadata": {},
   "outputs": [],
   "source": [
    "# Helper function to evaluate the different markov models\n",
    "def eval(markov):\n",
    "    # Beginning from empty state\n",
    "    current_state = 0\n",
    "    test_reward = 0\n",
    "\n",
    "    # go through the actions in the file\n",
    "    for a in fileactions:\n",
    "        print(\"Current state: \" + str(states[current_state]) + \" - perform action: \" + str(actions[a]))\n",
    "        \n",
    "        # get the possible next states reachable through action a from the current state\n",
    "        next_idx = [i for i in range(len(transition[a, current_state])) if transition[a, current_state, i] != 0]\n",
    "        # Get the values for this next states from the value function of the model\n",
    "        values = [markov.V[i] for i in next_idx]\n",
    "        \n",
    "        # Choose the state with the max value as next state\n",
    "        next_state = next_idx[values.index(max(values))]\n",
    "        # add the reward of this choice on the reward counter\n",
    "        test_reward += reward[a, current_state, next_state]\n",
    "        # for next round: current state = next state\n",
    "        current_state = next_state\n",
    "        \n",
    "    print(\"Last state: \" + str(states[current_state]))\n",
    "    print(\"Total Reward: \" + str(test_reward))"
   ]
  },
  {
   "cell_type": "code",
   "execution_count": 15,
   "id": "894be903",
   "metadata": {},
   "outputs": [
    {
     "name": "stdout",
     "output_type": "stream",
     "text": [
      "Policy Iteration\n",
      "Current state: ['empty', 'empty', 'empty', 'empty'] - perform action: ('store', 'red')\n",
      "Current state: ['red', 'empty', 'empty', 'empty'] - perform action: ('store', 'white')\n",
      "Current state: ['red', 'empty', 'empty', 'white'] - perform action: ('restore', 'white')\n",
      "Current state: ['red', 'empty', 'empty', 'empty'] - perform action: ('store', 'red')\n",
      "Current state: ['red', 'empty', 'red', 'empty'] - perform action: ('store', 'blue')\n",
      "Current state: ['red', 'empty', 'red', 'blue'] - perform action: ('store', 'red')\n",
      "Current state: ['red', 'red', 'red', 'blue'] - perform action: ('restore', 'red')\n",
      "Current state: ['empty', 'red', 'red', 'blue'] - perform action: ('restore', 'red')\n",
      "Current state: ['empty', 'empty', 'red', 'blue'] - perform action: ('restore', 'red')\n",
      "Current state: ['empty', 'empty', 'empty', 'blue'] - perform action: ('store', 'red')\n",
      "Current state: ['red', 'empty', 'empty', 'blue'] - perform action: ('restore', 'blue')\n",
      "Current state: ['red', 'empty', 'empty', 'empty'] - perform action: ('restore', 'red')\n",
      "Current state: ['empty', 'empty', 'empty', 'empty'] - perform action: ('store', 'blue')\n",
      "Current state: ['empty', 'empty', 'empty', 'blue'] - perform action: ('restore', 'blue')\n",
      "Current state: ['empty', 'empty', 'empty', 'empty'] - perform action: ('store', 'red')\n",
      "Current state: ['red', 'empty', 'empty', 'empty'] - perform action: ('store', 'red')\n",
      "Current state: ['red', 'empty', 'red', 'empty'] - perform action: ('store', 'blue')\n",
      "Current state: ['red', 'empty', 'red', 'blue'] - perform action: ('restore', 'blue')\n",
      "Current state: ['red', 'empty', 'red', 'empty'] - perform action: ('restore', 'red')\n",
      "Current state: ['red', 'empty', 'empty', 'empty'] - perform action: ('store', 'red')\n",
      "Current state: ['red', 'empty', 'red', 'empty'] - perform action: ('store', 'blue')\n",
      "Current state: ['red', 'empty', 'red', 'blue'] - perform action: ('restore', 'blue')\n",
      "Current state: ['red', 'empty', 'red', 'empty'] - perform action: ('restore', 'red')\n",
      "Current state: ['red', 'empty', 'empty', 'empty'] - perform action: ('store', 'blue')\n",
      "Current state: ['red', 'empty', 'empty', 'blue'] - perform action: ('store', 'white')\n",
      "Current state: ['red', 'empty', 'white', 'blue'] - perform action: ('store', 'red')\n",
      "Current state: ['red', 'red', 'white', 'blue'] - perform action: ('restore', 'red')\n",
      "Current state: ['red', 'empty', 'white', 'blue'] - perform action: ('restore', 'red')\n",
      "Current state: ['empty', 'empty', 'white', 'blue'] - perform action: ('restore', 'blue')\n",
      "Current state: ['empty', 'empty', 'white', 'empty'] - perform action: ('store', 'red')\n",
      "Current state: ['red', 'empty', 'white', 'empty'] - perform action: ('restore', 'red')\n",
      "Current state: ['empty', 'empty', 'white', 'empty'] - perform action: ('store', 'white')\n",
      "Current state: ['empty', 'empty', 'white', 'white'] - perform action: ('store', 'red')\n",
      "Current state: ['red', 'empty', 'white', 'white'] - perform action: ('store', 'red')\n",
      "Current state: ['red', 'red', 'white', 'white'] - perform action: ('restore', 'red')\n",
      "Current state: ['red', 'empty', 'white', 'white'] - perform action: ('store', 'red')\n",
      "Current state: ['red', 'red', 'white', 'white'] - perform action: ('restore', 'red')\n",
      "Current state: ['red', 'empty', 'white', 'white'] - perform action: ('restore', 'red')\n",
      "Current state: ['empty', 'empty', 'white', 'white'] - perform action: ('restore', 'white')\n",
      "Current state: ['empty', 'empty', 'empty', 'white'] - perform action: ('restore', 'white')\n",
      "Current state: ['empty', 'empty', 'empty', 'empty'] - perform action: ('store', 'blue')\n",
      "Current state: ['empty', 'empty', 'empty', 'blue'] - perform action: ('store', 'white')\n",
      "Current state: ['empty', 'empty', 'white', 'blue'] - perform action: ('store', 'blue')\n",
      "Current state: ['empty', 'blue', 'white', 'blue'] - perform action: ('restore', 'white')\n",
      "Current state: ['empty', 'blue', 'empty', 'blue'] - perform action: ('restore', 'blue')\n",
      "Current state: ['empty', 'empty', 'empty', 'blue'] - perform action: ('restore', 'blue')\n",
      "Current state: ['empty', 'empty', 'empty', 'empty'] - perform action: ('store', 'white')\n",
      "Current state: ['empty', 'empty', 'empty', 'white'] - perform action: ('store', 'red')\n",
      "Current state: ['red', 'empty', 'empty', 'white'] - perform action: ('store', 'red')\n",
      "Current state: ['red', 'empty', 'red', 'white'] - perform action: ('store', 'red')\n",
      "Current state: ['red', 'red', 'red', 'white'] - perform action: ('restore', 'red')\n",
      "Current state: ['empty', 'red', 'red', 'white'] - perform action: ('restore', 'white')\n",
      "Current state: ['empty', 'red', 'red', 'empty'] - perform action: ('restore', 'red')\n",
      "Current state: ['empty', 'empty', 'red', 'empty'] - perform action: ('restore', 'red')\n",
      "Current state: ['empty', 'empty', 'empty', 'empty'] - perform action: ('store', 'white')\n",
      "Current state: ['empty', 'empty', 'empty', 'white'] - perform action: ('restore', 'white')\n",
      "Current state: ['empty', 'empty', 'empty', 'empty'] - perform action: ('store', 'white')\n",
      "Current state: ['empty', 'empty', 'empty', 'white'] - perform action: ('store', 'white')\n",
      "Current state: ['empty', 'empty', 'white', 'white'] - perform action: ('store', 'blue')\n",
      "Current state: ['empty', 'blue', 'white', 'white'] - perform action: ('store', 'white')\n",
      "Current state: ['white', 'blue', 'white', 'white'] - perform action: ('restore', 'blue')\n",
      "Current state: ['white', 'empty', 'white', 'white'] - perform action: ('restore', 'white')\n",
      "Current state: ['empty', 'empty', 'white', 'white'] - perform action: ('restore', 'white')\n",
      "Current state: ['empty', 'empty', 'empty', 'white'] - perform action: ('store', 'white')\n",
      "Current state: ['empty', 'empty', 'white', 'white'] - perform action: ('store', 'red')\n",
      "Last state: ['red', 'empty', 'white', 'white']\n",
      "Total Reward: 497.5\n"
     ]
    }
   ],
   "source": [
    "# Evaluate Policy Iteration\n",
    "print(\"Policy Iteration\")\n",
    "eval(policyIt)"
   ]
  },
  {
   "cell_type": "code",
   "execution_count": 16,
   "id": "e0d76a48",
   "metadata": {},
   "outputs": [
    {
     "name": "stdout",
     "output_type": "stream",
     "text": [
      "Q-Learning\n",
      "Current state: ['empty', 'empty', 'empty', 'empty'] - perform action: ('store', 'red')\n",
      "Current state: ['empty', 'empty', 'red', 'empty'] - perform action: ('store', 'white')\n",
      "Current state: ['white', 'empty', 'red', 'empty'] - perform action: ('restore', 'white')\n",
      "Current state: ['empty', 'empty', 'red', 'empty'] - perform action: ('store', 'red')\n",
      "Current state: ['empty', 'empty', 'red', 'red'] - perform action: ('store', 'blue')\n",
      "Current state: ['empty', 'blue', 'red', 'red'] - perform action: ('store', 'red')\n",
      "Current state: ['red', 'blue', 'red', 'red'] - perform action: ('restore', 'red')\n",
      "Current state: ['empty', 'blue', 'red', 'red'] - perform action: ('restore', 'red')\n",
      "Current state: ['empty', 'blue', 'empty', 'red'] - perform action: ('restore', 'red')\n",
      "Current state: ['empty', 'blue', 'empty', 'empty'] - perform action: ('store', 'red')\n",
      "Current state: ['empty', 'blue', 'empty', 'red'] - perform action: ('restore', 'blue')\n",
      "Current state: ['empty', 'empty', 'empty', 'red'] - perform action: ('restore', 'red')\n",
      "Current state: ['empty', 'empty', 'empty', 'empty'] - perform action: ('store', 'blue')\n",
      "Current state: ['empty', 'empty', 'blue', 'empty'] - perform action: ('restore', 'blue')\n",
      "Current state: ['empty', 'empty', 'empty', 'empty'] - perform action: ('store', 'red')\n",
      "Current state: ['empty', 'empty', 'red', 'empty'] - perform action: ('store', 'red')\n",
      "Current state: ['empty', 'empty', 'red', 'red'] - perform action: ('store', 'blue')\n",
      "Current state: ['empty', 'blue', 'red', 'red'] - perform action: ('restore', 'blue')\n",
      "Current state: ['empty', 'empty', 'red', 'red'] - perform action: ('restore', 'red')\n",
      "Current state: ['empty', 'empty', 'red', 'empty'] - perform action: ('store', 'red')\n",
      "Current state: ['empty', 'empty', 'red', 'red'] - perform action: ('store', 'blue')\n",
      "Current state: ['empty', 'blue', 'red', 'red'] - perform action: ('restore', 'blue')\n",
      "Current state: ['empty', 'empty', 'red', 'red'] - perform action: ('restore', 'red')\n",
      "Current state: ['empty', 'empty', 'red', 'empty'] - perform action: ('store', 'blue')\n",
      "Current state: ['blue', 'empty', 'red', 'empty'] - perform action: ('store', 'white')\n",
      "Current state: ['blue', 'empty', 'red', 'white'] - perform action: ('store', 'red')\n",
      "Current state: ['blue', 'red', 'red', 'white'] - perform action: ('restore', 'red')\n",
      "Current state: ['blue', 'empty', 'red', 'white'] - perform action: ('restore', 'red')\n",
      "Current state: ['blue', 'empty', 'empty', 'white'] - perform action: ('restore', 'blue')\n",
      "Current state: ['empty', 'empty', 'empty', 'white'] - perform action: ('store', 'red')\n",
      "Current state: ['empty', 'red', 'empty', 'white'] - perform action: ('restore', 'red')\n",
      "Current state: ['empty', 'empty', 'empty', 'white'] - perform action: ('store', 'white')\n",
      "Current state: ['empty', 'empty', 'white', 'white'] - perform action: ('store', 'red')\n",
      "Current state: ['empty', 'red', 'white', 'white'] - perform action: ('store', 'red')\n",
      "Current state: ['red', 'red', 'white', 'white'] - perform action: ('restore', 'red')\n",
      "Current state: ['empty', 'red', 'white', 'white'] - perform action: ('store', 'red')\n",
      "Current state: ['red', 'red', 'white', 'white'] - perform action: ('restore', 'red')\n",
      "Current state: ['empty', 'red', 'white', 'white'] - perform action: ('restore', 'red')\n",
      "Current state: ['empty', 'empty', 'white', 'white'] - perform action: ('restore', 'white')\n",
      "Current state: ['empty', 'empty', 'white', 'empty'] - perform action: ('restore', 'white')\n",
      "Current state: ['empty', 'empty', 'empty', 'empty'] - perform action: ('store', 'blue')\n",
      "Current state: ['empty', 'empty', 'blue', 'empty'] - perform action: ('store', 'white')\n",
      "Current state: ['empty', 'empty', 'blue', 'white'] - perform action: ('store', 'blue')\n",
      "Current state: ['blue', 'empty', 'blue', 'white'] - perform action: ('restore', 'white')\n",
      "Current state: ['blue', 'empty', 'blue', 'empty'] - perform action: ('restore', 'blue')\n",
      "Current state: ['empty', 'empty', 'blue', 'empty'] - perform action: ('restore', 'blue')\n",
      "Current state: ['empty', 'empty', 'empty', 'empty'] - perform action: ('store', 'white')\n",
      "Current state: ['empty', 'white', 'empty', 'empty'] - perform action: ('store', 'red')\n",
      "Current state: ['empty', 'white', 'empty', 'red'] - perform action: ('store', 'red')\n",
      "Current state: ['red', 'white', 'empty', 'red'] - perform action: ('store', 'red')\n",
      "Current state: ['red', 'white', 'red', 'red'] - perform action: ('restore', 'red')\n",
      "Current state: ['red', 'white', 'empty', 'red'] - perform action: ('restore', 'white')\n",
      "Current state: ['red', 'empty', 'empty', 'red'] - perform action: ('restore', 'red')\n",
      "Current state: ['empty', 'empty', 'empty', 'red'] - perform action: ('restore', 'red')\n",
      "Current state: ['empty', 'empty', 'empty', 'empty'] - perform action: ('store', 'white')\n",
      "Current state: ['empty', 'white', 'empty', 'empty'] - perform action: ('restore', 'white')\n",
      "Current state: ['empty', 'empty', 'empty', 'empty'] - perform action: ('store', 'white')\n",
      "Current state: ['empty', 'white', 'empty', 'empty'] - perform action: ('store', 'white')\n",
      "Current state: ['empty', 'white', 'empty', 'white'] - perform action: ('store', 'blue')\n",
      "Current state: ['empty', 'white', 'blue', 'white'] - perform action: ('store', 'white')\n",
      "Current state: ['white', 'white', 'blue', 'white'] - perform action: ('restore', 'blue')\n",
      "Current state: ['white', 'white', 'empty', 'white'] - perform action: ('restore', 'white')\n",
      "Current state: ['empty', 'white', 'empty', 'white'] - perform action: ('restore', 'white')\n",
      "Current state: ['empty', 'white', 'empty', 'empty'] - perform action: ('store', 'white')\n",
      "Current state: ['empty', 'white', 'empty', 'white'] - perform action: ('store', 'red')\n",
      "Last state: ['empty', 'white', 'red', 'white']\n",
      "Total Reward: 472.5\n"
     ]
    }
   ],
   "source": [
    "# Evaluate Q-Learning\n",
    "print(\"Q-Learning\")\n",
    "eval(qlearning)"
   ]
  },
  {
   "cell_type": "code",
   "execution_count": 17,
   "id": "874cadea",
   "metadata": {},
   "outputs": [
    {
     "name": "stdout",
     "output_type": "stream",
     "text": [
      "Value Iteration\n",
      "Current state: ['empty', 'empty', 'empty', 'empty'] - perform action: ('store', 'red')\n",
      "Current state: ['red', 'empty', 'empty', 'empty'] - perform action: ('store', 'white')\n",
      "Current state: ['red', 'empty', 'empty', 'white'] - perform action: ('restore', 'white')\n",
      "Current state: ['red', 'empty', 'empty', 'empty'] - perform action: ('store', 'red')\n",
      "Current state: ['red', 'empty', 'red', 'empty'] - perform action: ('store', 'blue')\n",
      "Current state: ['red', 'empty', 'red', 'blue'] - perform action: ('store', 'red')\n",
      "Current state: ['red', 'red', 'red', 'blue'] - perform action: ('restore', 'red')\n",
      "Current state: ['empty', 'red', 'red', 'blue'] - perform action: ('restore', 'red')\n",
      "Current state: ['empty', 'empty', 'red', 'blue'] - perform action: ('restore', 'red')\n",
      "Current state: ['empty', 'empty', 'empty', 'blue'] - perform action: ('store', 'red')\n",
      "Current state: ['red', 'empty', 'empty', 'blue'] - perform action: ('restore', 'blue')\n",
      "Current state: ['red', 'empty', 'empty', 'empty'] - perform action: ('restore', 'red')\n",
      "Current state: ['empty', 'empty', 'empty', 'empty'] - perform action: ('store', 'blue')\n",
      "Current state: ['empty', 'empty', 'empty', 'blue'] - perform action: ('restore', 'blue')\n",
      "Current state: ['empty', 'empty', 'empty', 'empty'] - perform action: ('store', 'red')\n",
      "Current state: ['red', 'empty', 'empty', 'empty'] - perform action: ('store', 'red')\n",
      "Current state: ['red', 'empty', 'red', 'empty'] - perform action: ('store', 'blue')\n",
      "Current state: ['red', 'empty', 'red', 'blue'] - perform action: ('restore', 'blue')\n",
      "Current state: ['red', 'empty', 'red', 'empty'] - perform action: ('restore', 'red')\n",
      "Current state: ['red', 'empty', 'empty', 'empty'] - perform action: ('store', 'red')\n",
      "Current state: ['red', 'empty', 'red', 'empty'] - perform action: ('store', 'blue')\n",
      "Current state: ['red', 'empty', 'red', 'blue'] - perform action: ('restore', 'blue')\n",
      "Current state: ['red', 'empty', 'red', 'empty'] - perform action: ('restore', 'red')\n",
      "Current state: ['red', 'empty', 'empty', 'empty'] - perform action: ('store', 'blue')\n",
      "Current state: ['red', 'empty', 'empty', 'blue'] - perform action: ('store', 'white')\n",
      "Current state: ['red', 'empty', 'white', 'blue'] - perform action: ('store', 'red')\n",
      "Current state: ['red', 'red', 'white', 'blue'] - perform action: ('restore', 'red')\n",
      "Current state: ['red', 'empty', 'white', 'blue'] - perform action: ('restore', 'red')\n",
      "Current state: ['empty', 'empty', 'white', 'blue'] - perform action: ('restore', 'blue')\n",
      "Current state: ['empty', 'empty', 'white', 'empty'] - perform action: ('store', 'red')\n",
      "Current state: ['red', 'empty', 'white', 'empty'] - perform action: ('restore', 'red')\n",
      "Current state: ['empty', 'empty', 'white', 'empty'] - perform action: ('store', 'white')\n",
      "Current state: ['empty', 'empty', 'white', 'white'] - perform action: ('store', 'red')\n",
      "Current state: ['red', 'empty', 'white', 'white'] - perform action: ('store', 'red')\n",
      "Current state: ['red', 'red', 'white', 'white'] - perform action: ('restore', 'red')\n",
      "Current state: ['red', 'empty', 'white', 'white'] - perform action: ('store', 'red')\n",
      "Current state: ['red', 'red', 'white', 'white'] - perform action: ('restore', 'red')\n",
      "Current state: ['red', 'empty', 'white', 'white'] - perform action: ('restore', 'red')\n",
      "Current state: ['empty', 'empty', 'white', 'white'] - perform action: ('restore', 'white')\n",
      "Current state: ['empty', 'empty', 'empty', 'white'] - perform action: ('restore', 'white')\n",
      "Current state: ['empty', 'empty', 'empty', 'empty'] - perform action: ('store', 'blue')\n",
      "Current state: ['empty', 'empty', 'empty', 'blue'] - perform action: ('store', 'white')\n",
      "Current state: ['empty', 'empty', 'white', 'blue'] - perform action: ('store', 'blue')\n",
      "Current state: ['empty', 'blue', 'white', 'blue'] - perform action: ('restore', 'white')\n",
      "Current state: ['empty', 'blue', 'empty', 'blue'] - perform action: ('restore', 'blue')\n",
      "Current state: ['empty', 'empty', 'empty', 'blue'] - perform action: ('restore', 'blue')\n",
      "Current state: ['empty', 'empty', 'empty', 'empty'] - perform action: ('store', 'white')\n",
      "Current state: ['empty', 'empty', 'empty', 'white'] - perform action: ('store', 'red')\n",
      "Current state: ['red', 'empty', 'empty', 'white'] - perform action: ('store', 'red')\n",
      "Current state: ['red', 'empty', 'red', 'white'] - perform action: ('store', 'red')\n",
      "Current state: ['red', 'red', 'red', 'white'] - perform action: ('restore', 'red')\n",
      "Current state: ['empty', 'red', 'red', 'white'] - perform action: ('restore', 'white')\n",
      "Current state: ['empty', 'red', 'red', 'empty'] - perform action: ('restore', 'red')\n",
      "Current state: ['empty', 'empty', 'red', 'empty'] - perform action: ('restore', 'red')\n",
      "Current state: ['empty', 'empty', 'empty', 'empty'] - perform action: ('store', 'white')\n",
      "Current state: ['empty', 'empty', 'empty', 'white'] - perform action: ('restore', 'white')\n",
      "Current state: ['empty', 'empty', 'empty', 'empty'] - perform action: ('store', 'white')\n",
      "Current state: ['empty', 'empty', 'empty', 'white'] - perform action: ('store', 'white')\n",
      "Current state: ['empty', 'empty', 'white', 'white'] - perform action: ('store', 'blue')\n",
      "Current state: ['empty', 'blue', 'white', 'white'] - perform action: ('store', 'white')\n",
      "Current state: ['white', 'blue', 'white', 'white'] - perform action: ('restore', 'blue')\n",
      "Current state: ['white', 'empty', 'white', 'white'] - perform action: ('restore', 'white')\n",
      "Current state: ['empty', 'empty', 'white', 'white'] - perform action: ('restore', 'white')\n",
      "Current state: ['empty', 'empty', 'empty', 'white'] - perform action: ('store', 'white')\n",
      "Current state: ['empty', 'empty', 'white', 'white'] - perform action: ('store', 'red')\n",
      "Last state: ['red', 'empty', 'white', 'white']\n",
      "Total Reward: 497.5\n"
     ]
    }
   ],
   "source": [
    "# Evaluate Value Iteration\n",
    "print(\"Value Iteration\")\n",
    "eval(valIt)"
   ]
  },
  {
   "cell_type": "code",
   "execution_count": null,
   "id": "03be7134",
   "metadata": {},
   "outputs": [],
   "source": []
  }
 ],
 "metadata": {
  "kernelspec": {
   "display_name": "Python 3",
   "language": "python",
   "name": "python3"
  },
  "language_info": {
   "codemirror_mode": {
    "name": "ipython",
    "version": 3
   },
   "file_extension": ".py",
   "mimetype": "text/x-python",
   "name": "python",
   "nbconvert_exporter": "python",
   "pygments_lexer": "ipython3",
   "version": "3.8.10"
  },
  "nteract": {
   "version": "0.25.1"
  }
 },
 "nbformat": 4,
 "nbformat_minor": 5
}
